{
  "nbformat": 4,
  "nbformat_minor": 0,
  "metadata": {
    "colab": {
      "provenance": []
    },
    "kernelspec": {
      "name": "python3",
      "display_name": "Python 3"
    },
    "language_info": {
      "name": "python"
    }
  },
  "cells": [
    {
      "cell_type": "markdown",
      "source": [
        "## Постановка задачі\n",
        "Набір даних про дитячі імена США з веб-сайту\n",
        "kaggle.com (https://www.kaggle.com/kaggle/us-babynames?select=NationalNames.csv)\n",
        "\n",
        "Номери вправ\n",
        "1, 2, 3, 5, 10-18, 21-24, 26"
      ],
      "metadata": {
        "id": "ksKdZ56QTc7z"
      }
    },
    {
      "cell_type": "code",
      "execution_count": 1,
      "metadata": {
        "colab": {
          "base_uri": "https://localhost:8080/"
        },
        "id": "bqFWkvYjSd2I",
        "outputId": "f3c63355-2888-4292-82b0-1bc07d579561"
      },
      "outputs": [
        {
          "output_type": "stream",
          "name": "stdout",
          "text": [
            "Warning: Looks like you're using an outdated `kagglehub` version (installed: 0.3.11), please consider upgrading to the latest version (0.3.12).\n",
            "Downloading from https://www.kaggle.com/api/v1/datasets/download/kaggle/us-baby-names?dataset_version_number=2...\n"
          ]
        },
        {
          "output_type": "stream",
          "name": "stderr",
          "text": [
            "100%|██████████| 173M/173M [00:01<00:00, 139MB/s]"
          ]
        },
        {
          "output_type": "stream",
          "name": "stdout",
          "text": [
            "Extracting files...\n"
          ]
        },
        {
          "output_type": "stream",
          "name": "stderr",
          "text": [
            "\n"
          ]
        },
        {
          "output_type": "stream",
          "name": "stdout",
          "text": [
            "Path to dataset files: /root/.cache/kagglehub/datasets/kaggle/us-baby-names/versions/2\n"
          ]
        }
      ],
      "source": [
        "import kagglehub\n",
        "\n",
        "path = kagglehub.dataset_download(\"kaggle/us-baby-names\")\n",
        "\n",
        "print(\"Path to dataset files:\", path)"
      ]
    },
    {
      "cell_type": "markdown",
      "source": [
        "1. Вивести перші 8 рядків\n",
        "2. Вивести останні 8 рядків\n",
        "3. Отримайте імена стовпців набору даних\n",
        "5. Знайдіть кількість унікальних імен у наборі даних\n",
        "10. Підрахуйте кількість унікальних імен у кожному році\n",
        "11. Знайдіть рік із найбільшою кількістю унікальних імен.\n",
        "12. Знайдіть найпопулярніше ім’я в році з найбільшою кількістю\n",
        "унікальних імен (тобто у 2008 році)\n",
        "13. Знайдіть рік, коли ім’я “Jacob” було найпопулярнішим серед\n",
        "жіночих імен\n",
        "14. Знайти рік із найбільшою кількістю гендерно нейтральних імен\n",
        "(однакові чоловічі та жіночі імена)\n",
        "15. Знайдіть загальну кількість народжень за рік.\n",
        "16. Знайдіть рік, коли народилося найбільше дітей\n",
        "17. Знайдіть кількість дівчаток та хлопчиків, які народились кожного\n",
        "року\n",
        "18. Підрахуйте кількість років, коли дівчаток народжувалось більше,\n",
        "ніж хлопчиків.\n",
        "21. Порахуйте, скільки разів хлопчиків називали Barbara\n",
        "22. Підрахуйте скільки років проводилось спостереження\n",
        "23. Знати найпопулярніші гендерно-нейтральні імена (ті, що присутні\n",
        "кожного року)\n",
        "24. Знайти найпопулярніше серед непопулярних імен (непопулярне\n",
        "ім’я, яким називали дітей найбільшу кількість разів )\n",
        "26. Побудувати графіки розподілення кількості жіночих імен John та\n",
        "чоловічих імен Mary по роках."
      ],
      "metadata": {
        "id": "e1PEVQRbUuQP"
      }
    },
    {
      "cell_type": "code",
      "source": [
        "import pandas as pd\n",
        "import os\n",
        "csv_path = os.path.join(path, \"NationalNames.csv\")\n",
        "\n",
        "df = pd.read_csv(csv_path)\n",
        "\n",
        "# 1 вправа, вивести перші 8 рядків\n",
        "print(df.head(8))"
      ],
      "metadata": {
        "colab": {
          "base_uri": "https://localhost:8080/"
        },
        "id": "DMgwysk8Sual",
        "outputId": "22f50b5c-e7c4-41c0-83b0-a5f973a2fbb6"
      },
      "execution_count": 5,
      "outputs": [
        {
          "output_type": "stream",
          "name": "stdout",
          "text": [
            "   Id       Name  Year Gender  Count\n",
            "0   1       Mary  1880      F   7065\n",
            "1   2       Anna  1880      F   2604\n",
            "2   3       Emma  1880      F   2003\n",
            "3   4  Elizabeth  1880      F   1939\n",
            "4   5     Minnie  1880      F   1746\n",
            "5   6   Margaret  1880      F   1578\n",
            "6   7        Ida  1880      F   1472\n",
            "7   8      Alice  1880      F   1414\n"
          ]
        }
      ]
    },
    {
      "cell_type": "code",
      "source": [
        "# 2 вправа, вивести останні 8 рядків\n",
        "print(df.tail(8))"
      ],
      "metadata": {
        "colab": {
          "base_uri": "https://localhost:8080/"
        },
        "id": "MfU5s6oLTmUa",
        "outputId": "a56f85cd-cc99-40a6-dd0f-133636b7699b"
      },
      "execution_count": 6,
      "outputs": [
        {
          "output_type": "stream",
          "name": "stdout",
          "text": [
            "              Id     Name  Year Gender  Count\n",
            "1825425  1825426       Zo  2014      M      5\n",
            "1825426  1825427    Zyeir  2014      M      5\n",
            "1825427  1825428     Zyel  2014      M      5\n",
            "1825428  1825429   Zykeem  2014      M      5\n",
            "1825429  1825430   Zymeer  2014      M      5\n",
            "1825430  1825431  Zymiere  2014      M      5\n",
            "1825431  1825432    Zyran  2014      M      5\n",
            "1825432  1825433    Zyrin  2014      M      5\n"
          ]
        }
      ]
    },
    {
      "cell_type": "code",
      "source": [
        "# 3. Отримайте імена стовпців набору даних\n",
        "\n",
        "print(df.columns.tolist())"
      ],
      "metadata": {
        "colab": {
          "base_uri": "https://localhost:8080/"
        },
        "id": "fnCf3CcyTudC",
        "outputId": "486e3df5-85ba-4fd7-e2ed-a12b41e28db6"
      },
      "execution_count": 9,
      "outputs": [
        {
          "output_type": "stream",
          "name": "stdout",
          "text": [
            "['Id', 'Name', 'Year', 'Gender', 'Count']\n"
          ]
        }
      ]
    },
    {
      "cell_type": "code",
      "source": [
        "# 5. Кількість унікальних імен у наборі\n",
        "\n",
        "print(\"Унікальних імен:\", df[\"Name\"].nunique())"
      ],
      "metadata": {
        "colab": {
          "base_uri": "https://localhost:8080/"
        },
        "id": "NYEPESTHVFBW",
        "outputId": "8c04ef4c-1fb5-4c16-90d4-651d3b8336ec"
      },
      "execution_count": 10,
      "outputs": [
        {
          "output_type": "stream",
          "name": "stdout",
          "text": [
            "Унікальних імен: 93889\n"
          ]
        }
      ]
    },
    {
      "cell_type": "code",
      "source": [
        "# 10. Кількість унікальних імен у кожному році\n",
        "\n",
        "unique_names_per_year = df.groupby(\"Year\")[\"Name\"].nunique()\n",
        "print(unique_names_per_year)"
      ],
      "metadata": {
        "colab": {
          "base_uri": "https://localhost:8080/"
        },
        "id": "3qwWy159VMY8",
        "outputId": "6baf2708-ffef-4202-c777-2635978346f1"
      },
      "execution_count": 11,
      "outputs": [
        {
          "output_type": "stream",
          "name": "stdout",
          "text": [
            "Year\n",
            "1880     1889\n",
            "1881     1830\n",
            "1882     2012\n",
            "1883     1962\n",
            "1884     2158\n",
            "        ...  \n",
            "2010    31603\n",
            "2011    31418\n",
            "2012    31236\n",
            "2013    30774\n",
            "2014    30579\n",
            "Name: Name, Length: 135, dtype: int64\n"
          ]
        }
      ]
    },
    {
      "cell_type": "code",
      "source": [
        "# 11. Рік із найбільшою кількістю унікальних імен\n",
        "\n",
        "max_year = unique_names_per_year.idxmax()\n",
        "print(\"Рік з найбільшою кількістю унікальних імен:\", max_year)"
      ],
      "metadata": {
        "colab": {
          "base_uri": "https://localhost:8080/"
        },
        "id": "TCBt6TvFVQvs",
        "outputId": "d4e58331-fec8-41b7-ed5d-0eb40d971584"
      },
      "execution_count": 14,
      "outputs": [
        {
          "output_type": "stream",
          "name": "stdout",
          "text": [
            "Рік з найбільшою кількістю унікальних імен: 2008\n"
          ]
        }
      ]
    },
    {
      "cell_type": "code",
      "source": [
        "# 12. Найпопулярніше ім’я в році з найбільшою кількістю унікальних імен (2008)\n",
        "\n",
        "top_name_2008 = df[df[\"Year\"] == 2008].groupby(\"Name\")[\"Count\"].sum().idxmax()\n",
        "print(\"Найпопулярніше ім’я у 2008:\", top_name_2008)"
      ],
      "metadata": {
        "colab": {
          "base_uri": "https://localhost:8080/"
        },
        "id": "5I8TdFA9VWmk",
        "outputId": "877a0ce5-750e-4e4a-e0fe-20de394a587a"
      },
      "execution_count": 13,
      "outputs": [
        {
          "output_type": "stream",
          "name": "stdout",
          "text": [
            "Найпопулярніше ім’я у 2008: Jacob\n"
          ]
        }
      ]
    },
    {
      "cell_type": "code",
      "source": [
        "#13. Рік, коли ім’я “Jacob” було найпопулярнішим серед дівчат\n",
        "\n",
        "jacob_female = df[(df[\"Name\"] == \"Jacob\") & (df[\"Gender\"] == \"F\")]\n",
        "year_jacob_female = jacob_female.loc[jacob_female[\"Count\"].idxmax(), \"Year\"]\n",
        "print(\"Рік найпопулярнішого 'Jacob' серед дівчат:\", year_jacob_female)"
      ],
      "metadata": {
        "colab": {
          "base_uri": "https://localhost:8080/"
        },
        "id": "6xGtqv57VZNc",
        "outputId": "78b97f9e-c04a-4d1d-861d-fec4969ea9d3"
      },
      "execution_count": 15,
      "outputs": [
        {
          "output_type": "stream",
          "name": "stdout",
          "text": [
            "Рік найпопулярнішого 'Jacob' серед дівчат: 2004\n"
          ]
        }
      ]
    },
    {
      "cell_type": "code",
      "source": [
        "# 14. Рік із найбільшою кількістю гендерно нейтральних імен\n",
        "\n",
        "neutral_names_by_year = df.groupby([\"Year\", \"Name\"])[\"Gender\"].nunique().reset_index()\n",
        "neutral_names = neutral_names_by_year[neutral_names_by_year[\"Gender\"] == 2]\n",
        "neutral_per_year = neutral_names.groupby(\"Year\").size()\n",
        "print(\"Рік з найбільшою кількістю гендерно нейтральних імен:\", neutral_per_year.idxmax())"
      ],
      "metadata": {
        "colab": {
          "base_uri": "https://localhost:8080/"
        },
        "id": "ktRmaSNDVftD",
        "outputId": "a96b52d3-afed-417b-f21e-7d9b187ece44"
      },
      "execution_count": 16,
      "outputs": [
        {
          "output_type": "stream",
          "name": "stdout",
          "text": [
            "Рік з найбільшою кількістю гендерно нейтральних імен: 2008\n"
          ]
        }
      ]
    },
    {
      "cell_type": "code",
      "source": [
        "# 15. Загальна кількість народжень за рік\n",
        "\n",
        "births_per_year = df.groupby(\"Year\")[\"Count\"].sum()\n",
        "print(births_per_year)"
      ],
      "metadata": {
        "colab": {
          "base_uri": "https://localhost:8080/"
        },
        "id": "U4zN_aqPVkx7",
        "outputId": "07d4178c-2851-4e7b-f6c4-db12329b109a"
      },
      "execution_count": 17,
      "outputs": [
        {
          "output_type": "stream",
          "name": "stdout",
          "text": [
            "Year\n",
            "1880     201484\n",
            "1881     192699\n",
            "1882     221538\n",
            "1883     216950\n",
            "1884     243467\n",
            "         ...   \n",
            "2010    3686589\n",
            "2011    3646730\n",
            "2012    3643336\n",
            "2013    3626802\n",
            "2014    3670151\n",
            "Name: Count, Length: 135, dtype: int64\n"
          ]
        }
      ]
    },
    {
      "cell_type": "code",
      "source": [
        "# 16. Рік, коли народилося найбільше дітей\n",
        "\n",
        "print(\"Найбільше народжень у році:\", births_per_year.idxmax())"
      ],
      "metadata": {
        "colab": {
          "base_uri": "https://localhost:8080/"
        },
        "id": "bnn9D6HcVpLc",
        "outputId": "bee0612b-7886-4d80-d736-c9c9b905b379"
      },
      "execution_count": 18,
      "outputs": [
        {
          "output_type": "stream",
          "name": "stdout",
          "text": [
            "Найбільше народжень у році: 1957\n"
          ]
        }
      ]
    },
    {
      "cell_type": "code",
      "source": [
        "# 17. Кількість дівчаток та хлопчиків, які народились кожного року\n",
        "\n",
        "births_by_gender_year = df.groupby([\"Year\", \"Gender\"])[\"Count\"].sum().unstack()\n",
        "print(births_by_gender_year)"
      ],
      "metadata": {
        "colab": {
          "base_uri": "https://localhost:8080/"
        },
        "id": "-iWQgHaGVzBb",
        "outputId": "3971e40e-d939-41ff-f12f-6fcc07d3f604"
      },
      "execution_count": 19,
      "outputs": [
        {
          "output_type": "stream",
          "name": "stdout",
          "text": [
            "Gender        F        M\n",
            "Year                    \n",
            "1880      90993   110491\n",
            "1881      91954   100745\n",
            "1882     107850   113688\n",
            "1883     112321   104629\n",
            "1884     129022   114445\n",
            "...         ...      ...\n",
            "2010    1772738  1913851\n",
            "2011    1753500  1893230\n",
            "2012    1753922  1889414\n",
            "2013    1745339  1881463\n",
            "2014    1768775  1901376\n",
            "\n",
            "[135 rows x 2 columns]\n"
          ]
        }
      ]
    },
    {
      "cell_type": "code",
      "source": [
        "# 18. Кількість років, коли дівчаток народжувалось більше, ніж хлопчиків\n",
        "\n",
        "more_girls_years = (births_by_gender_year[\"F\"] > births_by_gender_year[\"M\"]).sum()\n",
        "print(\"Років, коли дівчаток більше:\", more_girls_years)"
      ],
      "metadata": {
        "colab": {
          "base_uri": "https://localhost:8080/"
        },
        "id": "sMeKIaijV2W7",
        "outputId": "b7a4a93f-a97b-47d9-b667-14789bae313f"
      },
      "execution_count": 20,
      "outputs": [
        {
          "output_type": "stream",
          "name": "stdout",
          "text": [
            "Років, коли дівчаток більше: 54\n"
          ]
        }
      ]
    },
    {
      "cell_type": "code",
      "source": [
        "# 21. Скільки разів хлопчиків називали Barbara\n",
        "\n",
        "barbara_male = df[(df[\"Name\"] == \"Barbara\") & (df[\"Gender\"] == \"M\")][\"Count\"].sum()\n",
        "print(\"Хлопчиків з ім’ям Barbara:\", barbara_male)"
      ],
      "metadata": {
        "colab": {
          "base_uri": "https://localhost:8080/"
        },
        "id": "wNODbP2WV5fr",
        "outputId": "098e1221-5ba6-4d15-9deb-80a5d516a8a7"
      },
      "execution_count": 21,
      "outputs": [
        {
          "output_type": "stream",
          "name": "stdout",
          "text": [
            "Хлопчиків з ім’ям Barbara: 4139\n"
          ]
        }
      ]
    },
    {
      "cell_type": "code",
      "source": [
        "# 22. Кількість років, у які проводилось спостереження\n",
        "\n",
        "print(\"Кількість років:\", df[\"Year\"].nunique())"
      ],
      "metadata": {
        "colab": {
          "base_uri": "https://localhost:8080/"
        },
        "id": "fEITHgmqV8xK",
        "outputId": "07b54544-2367-4cb7-c760-055e004f2b5f"
      },
      "execution_count": 22,
      "outputs": [
        {
          "output_type": "stream",
          "name": "stdout",
          "text": [
            "Кількість років: 135\n"
          ]
        }
      ]
    },
    {
      "cell_type": "code",
      "source": [
        "# 23. Найпопулярніші гендерно-нейтральні імена (які були кожного року)\n",
        "\n",
        "# Список всіх років у датасеті\n",
        "all_years = df[\"Year\"].unique()\n",
        "n_years = len(all_years)\n",
        "\n",
        "# Кількість унікальних років, в яких кожне ім'я з'являється для кожного гендера\n",
        "name_gender_years = df.groupby([\"Name\", \"Gender\"])[\"Year\"].nunique().reset_index()\n",
        "\n",
        "# Вибираємо лише ті імена, які з'являлись кожного року (для кожного гендера окремо)\n",
        "names_all_years = name_gender_years[name_gender_years[\"Year\"] == n_years]\n",
        "\n",
        "# Тепер шукаємо ті імена, які були кожного року як у чоловіків, так і у жінок\n",
        "neutral_names = names_all_years.groupby(\"Name\")[\"Gender\"].nunique()\n",
        "neutral_names = neutral_names[neutral_names == 2].index.tolist()\n",
        "\n",
        "# Фільтруємо основний датафрейм по цих іменах\n",
        "neutral_df = df[df[\"Name\"].isin(neutral_names)]\n",
        "\n",
        "# Порахуємо суму народжень по кожному імені\n",
        "popular_neutral_names = neutral_df.groupby(\"Name\")[\"Count\"].sum().sort_values(ascending=False)\n",
        "\n",
        "print(\"Топ гендерно-нейтральних імен, які були кожного року:\")\n",
        "print(popular_neutral_names.head(15))\n"
      ],
      "metadata": {
        "colab": {
          "base_uri": "https://localhost:8080/"
        },
        "id": "RqGRB-FoWAEK",
        "outputId": "bee743fb-266f-4322-894e-5c9906321002"
      },
      "execution_count": 26,
      "outputs": [
        {
          "output_type": "stream",
          "name": "stdout",
          "text": [
            "Топ гендерно-нейтральних імен, які були кожного року:\n",
            "Name\n",
            "James      5129096\n",
            "John       5106590\n",
            "Robert     4816785\n",
            "William    4071368\n",
            "Joseph     2580687\n",
            "Jean        480901\n",
            "Jesse       421406\n",
            "Leslie      376587\n",
            "Francis     312147\n",
            "Lee         291691\n",
            "Jessie      274931\n",
            "Marion      259549\n",
            "Johnnie     149953\n",
            "Sidney      105185\n",
            "Ollie        56482\n",
            "Name: Count, dtype: int64\n"
          ]
        }
      ]
    },
    {
      "cell_type": "code",
      "source": [
        "# 24. Найпопулярніше серед непопулярних імен\n",
        "\n",
        "# Порахуємо скільки разів кожне ім’я зустрічається у датасеті\n",
        "name_counts = df[\"Name\"].value_counts()\n",
        "\n",
        "# Вибираємо імена, які з’явились лише один раз\n",
        "rare_names = name_counts[name_counts == 1].index\n",
        "\n",
        "# Фільтруємо ці імена у датафреймі\n",
        "rare_names_df = df[df[\"Name\"].isin(rare_names)]\n",
        "\n",
        "# Знаходимо ім’я серед них з найбільшою кількістю народжень\n",
        "most_popular_rare = rare_names_df.loc[rare_names_df[\"Count\"].idxmax()]\n",
        "\n",
        "# Виводимо результат\n",
        "print(\"Найпопулярніше серед непопулярних імен:\")\n",
        "print(f\"Name: {most_popular_rare['Name']}, Gender: {most_popular_rare['Gender']}, Year: {most_popular_rare['Year']}, Count: {most_popular_rare['Count']}\")\n"
      ],
      "metadata": {
        "colab": {
          "base_uri": "https://localhost:8080/"
        },
        "id": "AIfPXxTXWUep",
        "outputId": "490d4589-978a-4ee6-8ecc-d352291299ca"
      },
      "execution_count": 27,
      "outputs": [
        {
          "output_type": "stream",
          "name": "stdout",
          "text": [
            "Найпопулярніше серед непопулярних імен:\n",
            "Name: Christop, Gender: M, Year: 1989, Count: 1082\n"
          ]
        }
      ]
    },
    {
      "cell_type": "code",
      "source": [
        "# 26. Графіки розподілення кількості жіночих імен John та чоловічих імен Mary по роках\n",
        "import matplotlib.pyplot as plt\n",
        "\n",
        "john_f = df[(df[\"Name\"] == \"John\") & (df[\"Gender\"] == \"F\")].groupby(\"Year\")[\"Count\"].sum()\n",
        "mary_m = df[(df[\"Name\"] == \"Mary\") & (df[\"Gender\"] == \"M\")].groupby(\"Year\")[\"Count\"].sum()\n",
        "\n",
        "plt.figure(figsize=(12, 6))\n",
        "plt.plot(john_f, label=\"John (F)\", color='purple')\n",
        "plt.plot(mary_m, label=\"Mary (M)\", color='green')\n",
        "plt.legend()\n",
        "plt.title(\"Кількість імен John (жіночих) та Mary (чоловічих) по роках\")\n",
        "plt.xlabel(\"Рік\")\n",
        "plt.ylabel(\"Кількість\")\n",
        "plt.grid(True)\n",
        "plt.show()"
      ],
      "metadata": {
        "colab": {
          "base_uri": "https://localhost:8080/",
          "height": 564
        },
        "id": "-Y9K6usOXOHu",
        "outputId": "b38efdc3-1411-4870-f2b5-e1c4e619c09a"
      },
      "execution_count": 31,
      "outputs": [
        {
          "output_type": "display_data",
          "data": {
            "text/plain": [
              "<Figure size 1200x600 with 1 Axes>"
            ],
            "image/png": "[encoded data removed]"
          },
          "metadata": {}
        }
      ]
    }
  ]
}