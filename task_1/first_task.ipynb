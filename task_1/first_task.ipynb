{
 "cells": [
  {
   "cell_type": "markdown",
   "id": "f507d5d3-b88b-438e-8c80-e0b6e8d0719f",
   "metadata": {},
   "source": [
    "# 🇬🇷 Греція\n",
    "\n",
    "<div style=\"border: 2px solid #0077b6; padding: 15px; background-color: #f1f8ff; border-radius: 5px;\">\n",
    "  \n",
    "## Основна інформація\n",
    "\n",
    "- **Площа:** <span style=\"color:green\">131 957 км квадратних</span>  \n",
    "- **Населення:** <span style=\"color:darkblue\">понад 10 мільйонів осіб</span>  \n",
    "- **Державний устрій:** _парламентська республіка_\n",
    "\n",
    "</div>\n",
    "\n",
    "---\n",
    "\n",
    "## Видатні постаті\n",
    "\n",
    "- **Сократ**\n",
    "  - <span style=\"color:gray\">філософ</span>\n",
    "- **Олександр Македонський**\n",
    "  - <span style=\"color:gray\">полководець</span>\n",
    "- **Арістотель**\n",
    "  - <span style=\"color:gray\">мислитель, вчений</span>\n",
    "\n",
    "---\n",
    "\n",
    "## Пам’ятки культури та природи\n",
    "\n",
    "| Назва               | Тип                 | Опис                                       |\n",
    "|---------------------|----------------------|---------------------------------------------|\n",
    "| **Акрополь**        | Культурна            | Стародавній ансамбль будівель в Афінах      |\n",
    "| **Метеори**         | Природно-культурна   | Монастирі на вершинах скель                |\n",
    "| **Санторіні**       | Природна             | Вулканічний острів із мальовничими краєвидами |\n",
    "\n",
    "---\n",
    "\n",
    "## Зображення\n",
    "\n",
    "**Вбудоване зображення:**\n",
    "\n",
    "<img src=\"https://upload.wikimedia.org/wikipedia/commons/thumb/5/5c/Flag_of_Greece.svg/2560px-Flag_of_Greece.svg.png\" alt=\"Прапор Греції\" width=\"300\"/>\n",
    "\n",
    "**Зображення через посилання (Парфенон):**  \n",
    "[![Парфенон](https://upload.wikimedia.org/wikipedia/commons/thumb/a/a8/Parthenon_from_west.jpg/800px-Parthenon_from_west.jpg)](https://uk.wikipedia.org/wiki/Парфенон)\n",
    "\n",
    "---\n",
    "\n",
    "## 📘 Гіперпосилання\n",
    "\n",
    "Детальніше про Грецію на [Вікіпедії](https://uk.wikipedia.org/wiki/Греція)\n",
    "\n",
    "---\n",
    "\n",
    "## Прапор Греції у SVG\n",
    "\n",
    "<svg width=\"320\" height=\"200\" xmlns=\"http://www.w3.org/2000/svg\">\n",
    "  <rect width=\"320\" height=\"200\" fill=\"white\"/>\n",
    "  <g fill=\"#0d5eaf\">\n",
    "    <rect y=\"0\" width=\"320\" height=\"20\"/>\n",
    "    <rect y=\"40\" width=\"320\" height=\"20\"/>\n",
    "    <rect y=\"80\" width=\"320\" height=\"20\"/>\n",
    "    <rect y=\"120\" width=\"320\" height=\"20\"/>\n",
    "    <rect y=\"160\" width=\"320\" height=\"20\"/>\n",
    "    <rect x=\"0\" y=\"0\" width=\"80\" height=\"80\" fill=\"#0d5eaf\"/>\n",
    "    <rect x=\"30\" y=\"0\" width=\"20\" height=\"80\" fill=\"white\"/>\n",
    "    <rect x=\"0\" y=\"30\" width=\"80\" height=\"20\" fill=\"white\"/>\n",
    "  </g>\n",
    "</svg>\n"
   ]
  },
  {
   "cell_type": "code",
   "execution_count": 15,
   "id": "0b676b75-2955-4ef3-ae01-d20d160b4bcb",
   "metadata": {},
   "outputs": [],
   "source": [
    "def is_prime(n):\n",
    "    if n < 2:\n",
    "        return False\n",
    "    for i in range(2, int(n**0.5) + 1):\n",
    "        if n % i == 0:\n",
    "            return False\n",
    "    return True\n",
    "\n",
    "def task_1():\n",
    "    try:\n",
    "        number = int(input(\"Введіть парне число більше за 2: \"))\n",
    "        \n",
    "        if number <= 2 or number % 2 != 0:\n",
    "            print(\"❌ Помилка: потрібно ввести парне число більше за 2.\")\n",
    "            return\n",
    "\n",
    "        for i in range(2, number):\n",
    "            if is_prime(i) and is_prime(number - i):\n",
    "                print(f\"Число {number} можна представити як {i}+{number - i}\")\n",
    "                return\n",
    "\n",
    "        print(\"❗ Неможливо знайти прості числа для цієї суми.\")\n",
    "    \n",
    "    except ValueError:\n",
    "        print(\"❌ Помилка: введено неціле число.\")\n"
   ]
  },
  {
   "cell_type": "code",
   "execution_count": 19,
   "id": "bb0b6f8a-43f4-47a1-8af3-67d0cb563458",
   "metadata": {},
   "outputs": [
    {
     "name": "stdin",
     "output_type": "stream",
     "text": [
      "Введіть парне число більше за 2:  16\n"
     ]
    },
    {
     "name": "stdout",
     "output_type": "stream",
     "text": [
      "Число 16 можна представити як 3+13\n"
     ]
    }
   ],
   "source": [
    "task_1()"
   ]
  },
  {
   "cell_type": "code",
   "execution_count": 21,
   "id": "4cc394b9-ff7b-4a20-90f9-7395de96ccc2",
   "metadata": {},
   "outputs": [
    {
     "name": "stdin",
     "output_type": "stream",
     "text": [
      "Введіть парне число більше за 2:  122\n"
     ]
    },
    {
     "name": "stdout",
     "output_type": "stream",
     "text": [
      "Число 122 можна представити як 13+109\n"
     ]
    }
   ],
   "source": [
    "task_1()"
   ]
  },
  {
   "cell_type": "code",
   "execution_count": 23,
   "id": "1228a1e4-72e9-4824-992f-709865395910",
   "metadata": {},
   "outputs": [
    {
     "name": "stdin",
     "output_type": "stream",
     "text": [
      "Введіть парне число більше за 2:  172\n"
     ]
    },
    {
     "name": "stdout",
     "output_type": "stream",
     "text": [
      "Число 172 можна представити як 5+167\n"
     ]
    }
   ],
   "source": [
    "task_1()"
   ]
  }
 ],
 "metadata": {
  "kernelspec": {
   "display_name": "Python [conda env:base] *",
   "language": "python",
   "name": "conda-base-py"
  },
  "language_info": {
   "codemirror_mode": {
    "name": "ipython",
    "version": 3
   },
   "file_extension": ".py",
   "mimetype": "text/x-python",
   "name": "python",
   "nbconvert_exporter": "python",
   "pygments_lexer": "ipython3",
   "version": "3.12.7"
  }
 },
 "nbformat": 4,
 "nbformat_minor": 5
}
