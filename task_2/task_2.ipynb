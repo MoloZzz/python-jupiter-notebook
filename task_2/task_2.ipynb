{
 "cells": [
  {
   "cell_type": "markdown",
   "id": "9d8415b9-fe8a-4f26-9556-a1ff189020f4",
   "metadata": {},
   "source": [
    "# Завдання 2–3"
   ]
  },
  {
   "cell_type": "markdown",
   "id": "dde823b7-d19c-432b-86bc-d7601c247a4d",
   "metadata": {},
   "source": [
    "$\\begin{cases}\n",
    "x_1 + x_2 + 2x_3 + 3x_4 = 1 \\\\\n",
    "3x_1 - x_2 - x_3 - 2x_4 = -4 \\\\\n",
    "2x_1 - 3x_2 - x_3 - x_4 = -6 \\\\\n",
    "x_1 + 2x_2 + 3x_3 - x_4 = -4 \\\\\n",
    "\\end{cases}$"
   ]
  },
  {
   "cell_type": "code",
   "execution_count": 1,
   "id": "3176f3b4-44cb-40e0-9f42-207ad535de65",
   "metadata": {
    "scrolled": true
   },
   "outputs": [
    {
     "name": "stdout",
     "output_type": "stream",
     "text": [
      "         64 function calls in 0.000 seconds\n",
      "\n",
      "   Ordered by: standard name\n",
      "\n",
      "   ncalls  tottime  percall  cumtime  percall filename:lineno(function)\n",
      "        1    0.000    0.000    0.000    0.000 1650935369.py:14(cramer_solve)\n",
      "        1    0.000    0.000    0.000    0.000 <string>:1(<module>)\n",
      "        5    0.000    0.000    0.000    0.000 linalg.py:140(isComplexType)\n",
      "        5    0.000    0.000    0.000    0.000 linalg.py:159(_commonType)\n",
      "        5    0.000    0.000    0.000    0.000 linalg.py:203(_assert_stacked_2d)\n",
      "        5    0.000    0.000    0.000    0.000 linalg.py:209(_assert_stacked_square)\n",
      "        5    0.000    0.000    0.000    0.000 linalg.py:2126(det)\n",
      "        5    0.000    0.000    0.000    0.000 linalg.py:488(_unary_dispatcher)\n",
      "        1    0.000    0.000    0.000    0.000 {built-in method builtins.exec}\n",
      "       10    0.000    0.000    0.000    0.000 {built-in method builtins.issubclass}\n",
      "        1    0.000    0.000    0.000    0.000 {built-in method builtins.len}\n",
      "        1    0.000    0.000    0.000    0.000 {built-in method numpy.array}\n",
      "        5    0.000    0.000    0.000    0.000 {built-in method numpy.asarray}\n",
      "        4    0.000    0.000    0.000    0.000 {method 'append' of 'list' objects}\n",
      "        5    0.000    0.000    0.000    0.000 {method 'astype' of 'numpy.generic' objects}\n",
      "        4    0.000    0.000    0.000    0.000 {method 'copy' of 'numpy.ndarray' objects}\n",
      "        1    0.000    0.000    0.000    0.000 {method 'disable' of '_lsprof.Profiler' objects}\n",
      "\n",
      "\n",
      "Крамер: [-0.55555556  1.88888889 -2.          1.22222222]\n",
      "Час Крамер: 0.0014765262603759766\n"
     ]
    }
   ],
   "source": [
    "import numpy as np\n",
    "import time\n",
    "import cProfile\n",
    "\n",
    "A = np.array([\n",
    "    [1, 1, 2, 3],\n",
    "    [3, -1, -1, -2],\n",
    "    [2, -3, -1, -1],\n",
    "    [1, 2, 3, -1]\n",
    "])\n",
    "b = np.array([1, -4, -6, -4])\n",
    "\n",
    "# Спосіб b: Крамер через цикли\n",
    "def cramer_solve(A, b):\n",
    "    n = len(b)\n",
    "    det_A = np.linalg.det(A)\n",
    "    if det_A == 0:\n",
    "        return None\n",
    "    solutions = []\n",
    "    for i in range(n):\n",
    "        A_i = A.copy()\n",
    "        A_i[:, i] = b\n",
    "        det_Ai = np.linalg.det(A_i)\n",
    "        solutions.append(det_Ai / det_A)\n",
    "    return np.array(solutions)\n",
    "\n",
    "start_loop = time.time()\n",
    "x_loop = cramer_solve(A, b)\n",
    "end_loop = time.time()\n",
    "cProfile.run('cramer_solve(A, b)')\n",
    "\n",
    "\n",
    "print(\"Крамер:\", x_loop)\n",
    "print(\"Час Крамер:\", end_loop - start_loop)"
   ]
  },
  {
   "cell_type": "code",
   "execution_count": 3,
   "id": "929d95f9-d799-48be-8f14-6b7707a51c7e",
   "metadata": {
    "scrolled": true
   },
   "outputs": [
    {
     "name": "stdout",
     "output_type": "stream",
     "text": [
      "         21 function calls in 0.002 seconds\n",
      "\n",
      "   Ordered by: standard name\n",
      "\n",
      "   ncalls  tottime  percall  cumtime  percall filename:lineno(function)\n",
      "        1    0.000    0.000    0.002    0.002 <string>:1(<module>)\n",
      "        1    0.000    0.000    0.000    0.000 linalg.py:130(get_linalg_error_extobj)\n",
      "        2    0.000    0.000    0.000    0.000 linalg.py:135(_makearray)\n",
      "        1    0.000    0.000    0.000    0.000 linalg.py:140(isComplexType)\n",
      "        1    0.000    0.000    0.000    0.000 linalg.py:159(_commonType)\n",
      "        1    0.000    0.000    0.000    0.000 linalg.py:203(_assert_stacked_2d)\n",
      "        1    0.000    0.000    0.000    0.000 linalg.py:209(_assert_stacked_square)\n",
      "        1    0.000    0.000    0.000    0.000 linalg.py:325(_solve_dispatcher)\n",
      "        1    0.002    0.002    0.002    0.002 linalg.py:329(solve)\n",
      "        1    0.000    0.000    0.002    0.002 {built-in method builtins.exec}\n",
      "        2    0.000    0.000    0.000    0.000 {built-in method builtins.getattr}\n",
      "        3    0.000    0.000    0.000    0.000 {built-in method builtins.issubclass}\n",
      "        2    0.000    0.000    0.000    0.000 {built-in method numpy.asarray}\n",
      "        1    0.000    0.000    0.000    0.000 {method '__array_prepare__' of 'numpy.ndarray' objects}\n",
      "        1    0.000    0.000    0.000    0.000 {method 'astype' of 'numpy.ndarray' objects}\n",
      "        1    0.000    0.000    0.000    0.000 {method 'disable' of '_lsprof.Profiler' objects}\n",
      "\n",
      "\n",
      "NumPy: [-0.55555556  1.88888889 -2.          1.22222222]\n",
      "Час NumPy: 0.0\n",
      "Рівні: True\n"
     ]
    }
   ],
   "source": [
    "# Спосіб а: NumPy\n",
    "cProfile.run('np.linalg.solve(A, b)')\n",
    "start_np = time.time()\n",
    "x_np = np.linalg.solve(A, b)\n",
    "end_np = time.time()\n",
    "print(\"NumPy:\", x_np)\n",
    "print(\"Час NumPy:\", end_np - start_np)\n",
    "print(\"Рівні:\", np.allclose(x_np, x_loop))"
   ]
  },
  {
   "cell_type": "code",
   "execution_count": 5,
   "id": "677dbce9-a449-447d-9d99-5d6e224bd698",
   "metadata": {},
   "outputs": [
    {
     "name": "stdout",
     "output_type": "stream",
     "text": [
      "Перевірка матричним множенням: True\n",
      "Обернена матриця: [-0.55555556  1.88888889 -2.          1.22222222]\n",
      "Рівні: True\n"
     ]
    }
   ],
   "source": [
    "# Матричне множення\n",
    "print(\"Перевірка матричним множенням:\", np.allclose(np.dot(A, x_np), b))\n",
    "\n",
    "# Обернена матриця\n",
    "A_inv = np.linalg.inv(A)\n",
    "x_inv = A_inv.dot(b)\n",
    "print(\"Обернена матриця:\", x_inv)\n",
    "print(\"Рівні:\", np.allclose(x_np, x_inv))\n"
   ]
  },
  {
   "cell_type": "markdown",
   "id": "7cc0c06b-4c0e-41d8-8c6a-62871e0c007a",
   "metadata": {},
   "source": [
    "$$\n",
    "2(A + B)(2B - A), \\quad \\text{де} \\quad\n",
    "A = \\begin{pmatrix}\n",
    "2 & 3 & -1 \\\\\n",
    "4 & 5 & 2 \\\\\n",
    "-1 & 0 & 7\n",
    "\\end{pmatrix}, \\quad\n",
    "B = \\begin{pmatrix}\n",
    "-1 & 0 & 5 \\\\\n",
    "0 & 1 & 3 \\\\\n",
    "2 & -2 & 4\n",
    "\\end{pmatrix}\n",
    "$$"
   ]
  },
  {
   "cell_type": "code",
   "execution_count": 7,
   "id": "5b5e7e46-af9f-42fa-88b0-dfc16e1c1252",
   "metadata": {},
   "outputs": [
    {
     "name": "stdout",
     "output_type": "stream",
     "text": [
      "NumPy результат:\n",
      " [[   8  -56   54]\n",
      " [ -30 -100  146]\n",
      " [ 118  -82   28]]\n"
     ]
    }
   ],
   "source": [
    "A = np.array([[2, 3, -1],\n",
    "              [4, 5, 2],\n",
    "              [-1, 0, 7]])\n",
    "B = np.array([[-1, 0, 5],\n",
    "              [0, 1, 3],\n",
    "              [2, -2, 4]])\n",
    "\n",
    "start_np = time.time()\n",
    "result_np = 2 * np.dot(A + B, 2 * B - A)\n",
    "end_np = time.time()\n",
    "print(\"NumPy результат:\\n\", result_np)\n"
   ]
  },
  {
   "cell_type": "code",
   "execution_count": 9,
   "id": "2069e317-1f5f-471a-8ad4-ef673a62395f",
   "metadata": {},
   "outputs": [
    {
     "name": "stdout",
     "output_type": "stream",
     "text": [
      "Цикли результат:\n",
      " [[   8  -56   54]\n",
      " [ -30 -100  146]\n",
      " [ 118  -82   28]]\n",
      "Рівні: True\n",
      "Час NumPy: 0.0\n",
      "Час циклів: 0.0\n"
     ]
    }
   ],
   "source": [
    "# Циклічне обчислення\n",
    "def mat_mult(A, B):\n",
    "    result = [[0]*len(B[0]) for _ in range(len(A))]\n",
    "    for i in range(len(A)):\n",
    "        for j in range(len(B[0])):\n",
    "            for k in range(len(A[0])):\n",
    "                result[i][j] += A[i][k] * B[k][j]\n",
    "    return result\n",
    "\n",
    "A_plus_B = [[A[i][j] + B[i][j] for j in range(3)] for i in range(3)]\n",
    "twoB_minus_A = [[2*B[i][j] - A[i][j] for j in range(3)] for i in range(3)]\n",
    "\n",
    "start_loop = time.time()\n",
    "mult = mat_mult(A_plus_B, twoB_minus_A)\n",
    "result_loop = [[2 * el for el in row] for row in mult]\n",
    "end_loop = time.time()\n",
    "\n",
    "print(\"Цикли результат:\\n\", np.array(result_loop))\n",
    "print(\"Рівні:\", np.allclose(result_np, result_loop))\n",
    "print(\"Час NumPy:\", end_np - start_np)\n",
    "print(\"Час циклів:\", end_loop - start_loop)\n"
   ]
  },
  {
   "cell_type": "markdown",
   "id": "d8a73897-3e16-49ec-8239-309b892488bd",
   "metadata": {},
   "source": [
    "## Висновки\n",
    "- NumPy виконує обчислення значно швидше, особливо при великих розмірах матриць.\n",
    "- Ітеративний підхід надає гнучкість, але потребує більше часу.\n",
    "- Всі методи дають однаковий результат, що підтверджується np.allclose()."
   ]
  },
  {
   "cell_type": "markdown",
   "id": "9126cec8-d5de-49dc-b89f-d6dc0fef5ad7",
   "metadata": {},
   "source": [
    "Завдання 1, 6, 7, 9,\n",
    "10, 11, 15,\n",
    "17, 18 \n",
    "- Вправа 1. Вводиться число n. Вивести масив розміру n×n, в \n",
    "якому по діагоналі йдуть числа від 1 до n, а інші числа дорівнюють 0\n",
    "- Вправа 6. З клавіатури вводиться масив. Замінити всі ненульові\n",
    "елементи на –1.\n",
    "- Вправа 7. З клавіатури вводиться масив. Замінити всі нульові\n",
    "елементи на –1. \n",
    "- Вправа 9. Вводиться число n. Створити масив значень від n до 0\n",
    "- Вправа 10. Вводиться числа n i m. Створити масив випадкових\n",
    "значень n×m і обчислити мінімальне, максимальне значення, середнє та\n",
    "середньо квадратичне відхилення, округлене до 3 знаків після коми. \n",
    "- Вправа 11. Створити масив одиниць розміром n×n та додати до\n",
    "нього «рамку», що утворюється з 0. \n",
    "- Вправа 15. Заповнити парні стовпчикі матриці розміром n×n\n",
    "одиницями, а непарні – нулями. \n",
    "- Вправа 17. Заповнити вектор значеннями від 0 до n. Замінити\n",
    "знаки для всіх значень, що менші за n/2 та більші за 3n/4 на\n",
    "протилежні.\n",
    "- Вправа 18. Згенерувати вектор з n випадкових чисел в діапазоні\n",
    "від 0 до 99. Визначити кількість унікальних чисел в послідовності."
   ]
  },
  {
   "cell_type": "markdown",
   "id": "e4c32756-5d6b-43fc-9f5b-e8cf77d893a1",
   "metadata": {},
   "source": [
    "- Вправа 1. Вводиться число n. Вивести масив розміру n×n, в \n",
    "якому по діагоналі йдуть числа від 1 до n, а інші числа дорівнюють 0"
   ]
  },
  {
   "cell_type": "code",
   "execution_count": 16,
   "id": "2e8ec90e-1b6e-4032-a5fa-35bfa4186192",
   "metadata": {},
   "outputs": [
    {
     "name": "stdin",
     "output_type": "stream",
     "text": [
      "Введіть n:  5\n"
     ]
    },
    {
     "name": "stdout",
     "output_type": "stream",
     "text": [
      "[[1 0 0 0 0]\n",
      " [0 2 0 0 0]\n",
      " [0 0 3 0 0]\n",
      " [0 0 0 4 0]\n",
      " [0 0 0 0 5]]\n"
     ]
    }
   ],
   "source": [
    "import numpy as np\n",
    "\n",
    "n = int(input(\"Введіть n: \"))\n",
    "matrix = np.zeros((n, n), dtype=int)\n",
    "np.fill_diagonal(matrix, np.arange(1, n+1))\n",
    "print(matrix)\n"
   ]
  },
  {
   "cell_type": "markdown",
   "id": "5fa61e21-5d17-4ab2-8223-777ad7ce04e1",
   "metadata": {},
   "source": [
    "- Вправа 6. З клавіатури вводиться масив. Замінити всі ненульові\n",
    "елементи на –1."
   ]
  },
  {
   "cell_type": "code",
   "execution_count": 18,
   "id": "a8e1fe38-5631-4173-a655-f36cc9c41615",
   "metadata": {},
   "outputs": [
    {
     "name": "stdin",
     "output_type": "stream",
     "text": [
      "Введіть елементи через пробіл:  10 1021 121 0 1 -1 21 32 12 3\n"
     ]
    },
    {
     "name": "stdout",
     "output_type": "stream",
     "text": [
      "[-1 -1 -1  0 -1 -1 -1 -1 -1 -1]\n"
     ]
    }
   ],
   "source": [
    "arr = np.array(list(map(int, input(\"Введіть елементи через пробіл: \").split())))\n",
    "arr[arr != 0] = -1\n",
    "print(arr)"
   ]
  },
  {
   "cell_type": "markdown",
   "id": "d51213f7-0cce-4ea3-887b-effdb2abf366",
   "metadata": {},
   "source": [
    "- Вправа 7. З клавіатури вводиться масив. Замінити всі нульові\n",
    "елементи на –1. "
   ]
  },
  {
   "cell_type": "code",
   "execution_count": 20,
   "id": "57e8778a-b4bc-4ffa-a101-cdd1d45c1e78",
   "metadata": {},
   "outputs": [
    {
     "name": "stdin",
     "output_type": "stream",
     "text": [
      "Введіть елементи через пробіл:  1 2 31 4 4 1 -1 0 12 33 12 31 33\n"
     ]
    },
    {
     "name": "stdout",
     "output_type": "stream",
     "text": [
      "[ 1  2 31  4  4  1 -1 -1 12 33 12 31 33]\n"
     ]
    }
   ],
   "source": [
    "arr = np.array(list(map(int, input(\"Введіть елементи через пробіл: \").split())))\n",
    "arr[arr == 0] = -1\n",
    "print(arr)"
   ]
  },
  {
   "cell_type": "markdown",
   "id": "c5fb55ac-4628-4af6-aee8-744bf5238c72",
   "metadata": {},
   "source": [
    "- Вправа 9. Вводиться число n. Створити масив значень від n до 0"
   ]
  },
  {
   "cell_type": "code",
   "execution_count": 22,
   "id": "071cd191-30de-4900-9890-6eecdcaeb2bc",
   "metadata": {},
   "outputs": [
    {
     "name": "stdin",
     "output_type": "stream",
     "text": [
      "Введіть n:  12\n"
     ]
    },
    {
     "name": "stdout",
     "output_type": "stream",
     "text": [
      "[12 11 10  9  8  7  6  5  4  3  2  1  0]\n"
     ]
    }
   ],
   "source": [
    "n = int(input(\"Введіть n: \"))\n",
    "arr = np.arange(n, -1, -1)\n",
    "print(arr)"
   ]
  },
  {
   "cell_type": "markdown",
   "id": "56e2544d-3ecc-4604-8c2a-69487efa4aa5",
   "metadata": {},
   "source": [
    "- Вправа 10. Вводиться числа n i m. Створити масив випадкових\n",
    "значень n×m і обчислити мінімальне, максимальне значення, середнє та\n",
    "середньо квадратичне відхилення, округлене до 3 знаків після коми. "
   ]
  },
  {
   "cell_type": "code",
   "execution_count": 24,
   "id": "50cd99ce-f1d4-472b-8ea1-e814865b30d3",
   "metadata": {},
   "outputs": [
    {
     "name": "stdin",
     "output_type": "stream",
     "text": [
      "Введіть n і m:  12 10\n"
     ]
    },
    {
     "name": "stdout",
     "output_type": "stream",
     "text": [
      "Масив:\n",
      " [[94 43 88 18 73  8 60 81 35 21]\n",
      " [51  5 14 16 87 69 86 33 32 72]\n",
      " [99 67 18 78 94 59 56 61 81 84]\n",
      " [79 34 59 82 57 89 46  0 51 59]\n",
      " [99  6 42  2 55 15 33 59 89 66]\n",
      " [83 75 98 56 64 89 68 64 68 39]\n",
      " [ 2 70 44 16 21 50 88  0 69 43]\n",
      " [10 79 50 94 89 22 54 24  1 59]\n",
      " [24 57  8 18 66 50 17 88 72 55]\n",
      " [72 47 93 68 41 91 67 77 27 69]\n",
      " [ 3 47 88 62 53 52 55 81  3 52]\n",
      " [69 36 16 97 42 84 89 38 58 24]]\n",
      "Мінімальне: 0\n",
      "Максимальне: 99\n",
      "Середнє: 53.75\n",
      "СКВ: 28.054\n"
     ]
    }
   ],
   "source": [
    "n, m = map(int, input(\"Введіть n і m: \").split())\n",
    "arr = np.random.randint(0, 100, size=(n, m))\n",
    "\n",
    "mean = np.mean(arr)\n",
    "std_dev = np.std(arr)\n",
    "minimum = np.min(arr)\n",
    "maximum = np.max(arr)\n",
    "\n",
    "print(\"Масив:\\n\", arr)\n",
    "print(f\"Мінімальне: {minimum}\")\n",
    "print(f\"Максимальне: {maximum}\")\n",
    "print(f\"Середнє: {round(mean, 3)}\")\n",
    "print(f\"СКВ: {round(std_dev, 3)}\")\n"
   ]
  },
  {
   "cell_type": "markdown",
   "id": "dd1b6c35-e4f9-418a-99f2-700e7342210f",
   "metadata": {},
   "source": [
    "- Вправа 11. Створити масив одиниць розміром n×n та додати до\n",
    "нього «рамку», що утворюється з 0. "
   ]
  },
  {
   "cell_type": "code",
   "execution_count": 32,
   "id": "dda80f0b-26b3-42ae-8efb-fee66edb8a64",
   "metadata": {},
   "outputs": [
    {
     "name": "stdin",
     "output_type": "stream",
     "text": [
      "Введіть n:  6\n"
     ]
    },
    {
     "name": "stdout",
     "output_type": "stream",
     "text": [
      "[[0 0 0 0 0 0 0 0]\n",
      " [0 1 1 1 1 1 1 0]\n",
      " [0 1 1 1 1 1 1 0]\n",
      " [0 1 1 1 1 1 1 0]\n",
      " [0 1 1 1 1 1 1 0]\n",
      " [0 1 1 1 1 1 1 0]\n",
      " [0 1 1 1 1 1 1 0]\n",
      " [0 0 0 0 0 0 0 0]]\n"
     ]
    }
   ],
   "source": [
    "n = int(input(\"Введіть n: \"))\n",
    "inner = np.ones((n, n), dtype=int)\n",
    "framed = np.pad(inner, pad_width=1, mode='constant', constant_values=0)\n",
    "print(framed)"
   ]
  },
  {
   "cell_type": "markdown",
   "id": "b44a95bd-2245-4e98-91e7-37a9984616a4",
   "metadata": {},
   "source": [
    "- Вправа 15. Заповнити парні стовпчикі матриці розміром n×n\n",
    "одиницями, а непарні – нулями. "
   ]
  },
  {
   "cell_type": "code",
   "execution_count": 34,
   "id": "d151879f-1e5e-4499-abe5-3902d86b899a",
   "metadata": {},
   "outputs": [
    {
     "name": "stdin",
     "output_type": "stream",
     "text": [
      "Введіть n:  6\n"
     ]
    },
    {
     "name": "stdout",
     "output_type": "stream",
     "text": [
      "[[1 0 1 0 1 0]\n",
      " [1 0 1 0 1 0]\n",
      " [1 0 1 0 1 0]\n",
      " [1 0 1 0 1 0]\n",
      " [1 0 1 0 1 0]\n",
      " [1 0 1 0 1 0]]\n"
     ]
    }
   ],
   "source": [
    "n = int(input(\"Введіть n: \"))\n",
    "matrix = np.zeros((n, n), dtype=int)\n",
    "matrix[:, ::2] = 1  # 0, 2, 4... (парні індекси)\n",
    "print(matrix)"
   ]
  },
  {
   "cell_type": "markdown",
   "id": "bdc39faa-e71c-41e9-b8c9-cab3621117f2",
   "metadata": {},
   "source": [
    "- Вправа 17. Заповнити вектор значеннями від 0 до n. Замінити\n",
    "знаки для всіх значень, що менші за n/2 та більші за 3n/4 на\n",
    "протилежні."
   ]
  },
  {
   "cell_type": "code",
   "execution_count": 36,
   "id": "96ad5cce-3cab-43c4-87e5-6f1ece8c85f0",
   "metadata": {},
   "outputs": [
    {
     "name": "stdin",
     "output_type": "stream",
     "text": [
      "Введіть n:  54\n"
     ]
    },
    {
     "name": "stdout",
     "output_type": "stream",
     "text": [
      "[  0  -1  -2  -3  -4  -5  -6  -7  -8  -9 -10 -11 -12 -13 -14 -15 -16 -17\n",
      " -18 -19 -20 -21 -22 -23 -24 -25 -26  27  28  29  30  31  32  33  34  35\n",
      "  36  37  38  39  40 -41 -42 -43 -44 -45 -46 -47 -48 -49 -50 -51 -52 -53\n",
      " -54]\n"
     ]
    }
   ],
   "source": [
    "n = int(input(\"Введіть n: \"))\n",
    "arr = np.arange(0, n+1)\n",
    "arr[(arr < n/2) | (arr > 3*n/4)] *= -1\n",
    "print(arr)"
   ]
  },
  {
   "cell_type": "markdown",
   "id": "ecebb6a4-a6de-469f-bbc5-fbc34a17cb03",
   "metadata": {},
   "source": [
    "- Вправа 18. Згенерувати вектор з n випадкових чисел в діапазоні\n",
    "від 0 до 99. Визначити кількість унікальних чисел в послідовності."
   ]
  },
  {
   "cell_type": "code",
   "execution_count": 40,
   "id": "e186203b-103d-4cf3-83b6-adc684461512",
   "metadata": {},
   "outputs": [
    {
     "name": "stdin",
     "output_type": "stream",
     "text": [
      "Введіть n:  60\n"
     ]
    },
    {
     "name": "stdout",
     "output_type": "stream",
     "text": [
      "Вектор: [29 27 13 85 35 23 94 24 39 35 69 30 35 82 49 44 48 99 55 10 53 29 83 59\n",
      " 59 56 55 21 29  3 65 51 17 38 80 87 86 18 36 79 47 77 81 52 28 97 41 61\n",
      " 59 75 26 79 83 19 64 37 52 17 97 32]\n",
      "Кількість унікальних: 48\n"
     ]
    }
   ],
   "source": [
    "n = int(input(\"Введіть n: \"))\n",
    "arr = np.random.randint(0, 100, size=n)\n",
    "unique_count = len(np.unique(arr))\n",
    "print(\"Вектор:\", arr)\n",
    "print(\"Кількість унікальних:\", unique_count)"
   ]
  }
 ],
 "metadata": {
  "kernelspec": {
   "display_name": "Python [conda env:base] *",
   "language": "python",
   "name": "conda-base-py"
  },
  "language_info": {
   "codemirror_mode": {
    "name": "ipython",
    "version": 3
   },
   "file_extension": ".py",
   "mimetype": "text/x-python",
   "name": "python",
   "nbconvert_exporter": "python",
   "pygments_lexer": "ipython3",
   "version": "3.12.7"
  }
 },
 "nbformat": 4,
 "nbformat_minor": 5
}
